{
 "cells": [
  {
   "cell_type": "markdown",
   "metadata": {
    "collapsed": true
   },
   "source": [
    "# Nordic microalgae\n",
    "\n",
    "Media konverter. Converts images to formats used at http://nordicmicroalgae.org\n",
    "The same functionality is also implemented here: https://github.com/nordicmicroalgae/nordicmicroalgae/tree/master/pyscripts"
   ]
  },
  {
   "cell_type": "code",
   "execution_count": 1,
   "metadata": {
    "collapsed": true
   },
   "outputs": [],
   "source": [
    "# Settings:\n",
    "in_path = 'in_images'\n",
    "out_clean_path = 'out_clean_images'\n",
    "out_normal_path = 'out_normal_images'\n",
    "out_thumbnails_path = 'out_thumbnail_images'\n",
    "\n",
    "standard_image_size = (700, 1400)\n",
    "thumbnail_size = (200, 150)"
   ]
  },
  {
   "cell_type": "code",
   "execution_count": 2,
   "metadata": {
    "collapsed": true
   },
   "outputs": [],
   "source": [
    "import pathlib # Python >3.4\n",
    "from PIL import Image"
   ]
  },
  {
   "cell_type": "code",
   "execution_count": 3,
   "metadata": {
    "collapsed": false
   },
   "outputs": [],
   "source": [
    "# Create out directories if needed.\n",
    "if not pathlib.Path(out_clean_path).exists():\n",
    "    pathlib.Path(out_clean_path).mkdir(parents=True)\n",
    "if not pathlib.Path(out_normal_path).exists():\n",
    "    pathlib.Path(out_normal_path).mkdir(parents=True)\n",
    "if not pathlib.Path(out_thumbnails_path).exists():\n",
    "    pathlib.Path(out_thumbnails_path).mkdir(parents=True)"
   ]
  },
  {
   "cell_type": "markdown",
   "metadata": {},
   "source": [
    "### Create clean images."
   ]
  },
  {
   "cell_type": "code",
   "execution_count": 13,
   "metadata": {
    "collapsed": false
   },
   "outputs": [],
   "source": [
    "def create_clean_jpg_image(in_path, in_file, \n",
    "                           out_path, out_file):\n",
    "    \"\"\" \"\"\"\n",
    "    in_file_path = pathlib.Path(in_path, in_file)\n",
    "    out_file = pathlib.Path(out_file).stem + '.jpg'\n",
    "    out_file_path = pathlib.Path(out_path, out_file)\n",
    "    # Open the image and read data as pixel values.\n",
    "    data = None\n",
    "    with in_file_path.open('rb') as f:\n",
    "        image = Image.open(f)\n",
    "        image.load()   \n",
    "        # Change if mode=P, etc.:\n",
    "        if image.mode not in ['RGB', 'RGBA']:\n",
    "            print('DEBUG: Image mode changed from ' + image.mode +\n",
    "                  ' in file: ' + in_file)\n",
    "            image = image.convert(\"RGBA\")\n",
    "            \n",
    "        data = list(image.getdata())\n",
    "    # Create a new empty image and add pixal data only.        \n",
    "    if data:\n",
    "        with out_file_path.open('wb') as f:\n",
    "            clean_image = Image.new(image.mode, image.size)\n",
    "            clean_image.putdata(data)\n",
    "            clean_image.save(f)\n"
   ]
  },
  {
   "cell_type": "code",
   "execution_count": 14,
   "metadata": {
    "collapsed": false,
    "scrolled": true
   },
   "outputs": [
    {
     "name": "stdout",
     "output_type": "stream",
     "text": [
      "Create original size: 1   andreas-cheat-sheet-machine-learning.png\n",
      "Size: 705376\n",
      "Create original size: 2   Django Minor swing 1.tiff\n",
      "Size: 316792\n",
      "Create original size: 3   Dolichospermum_1.JPG\n",
      "Size: 6488064\n",
      "Create original size: 4   Dolichospermum_2.JPG\n",
      "Size: 5210112\n",
      "Create original size: 5   frog.gif\n",
      "Size: 686234\n",
      "DEBUG: Image mode changed from P in file: frog.gif\n",
      "Create original size: 6   Haslea ostrearia_1.jpg\n",
      "Size: 5509036\n",
      "Create original size: 7   Heterocapsa triquetra_4.jpg\n",
      "Size: 12099\n",
      "DEBUG: Image mode changed from P in file: Heterocapsa triquetra_4.jpg\n",
      "Create original size: 8   Karta.jpeg\n",
      "Size: 515324\n",
      "Create original size: 9   Namnlöst.jpg\n",
      "Size: 221234\n",
      "Create original size: 10   nµa.png\n",
      "Size: 270\n",
      "DEBUG: Image mode changed from P in file: nµa.png\n"
     ]
    }
   ],
   "source": [
    "counter = 1\n",
    "for file in pathlib.Path(in_path).glob('*.*'):\n",
    "    try:\n",
    "        print('Create original size: ' +  str(counter) + '   ' + file.name)\n",
    "        print('Size: ' + str(file.stat().st_size))\n",
    "        create_clean_jpg_image(in_path, file.name, \n",
    "                               out_clean_path, file.name)\n",
    "        counter += 1\n",
    "    except Exception as e:\n",
    "        print('Failed to create clean image: ' + file.name + \n",
    "              '\\n' + str(e))\n"
   ]
  },
  {
   "cell_type": "markdown",
   "metadata": {},
   "source": [
    "### Create standard size images."
   ]
  },
  {
   "cell_type": "code",
   "execution_count": 6,
   "metadata": {
    "collapsed": false
   },
   "outputs": [],
   "source": [
    "def create_resized_image(in_path, in_file, \n",
    "                         out_path, out_file,\n",
    "                         new_size=(512, 512)):\n",
    "    \"\"\" \"\"\"\n",
    "    in_file_path = pathlib.Path(in_path, in_file)\n",
    "    out_file = pathlib.Path(out_file).stem + '.jpg'\n",
    "    out_file_path = pathlib.Path(out_path, out_file)\n",
    "    #\n",
    "    with in_file_path.open('rb') as f:\n",
    "        image = Image.open(f)\n",
    "        # Preserve ratio.\n",
    "        (image_width, image_height) = image.size\n",
    "        (new_max_width, new_max_height) = new_size\n",
    "        factor = min(new_max_width/image_width, new_max_height/image_height)\n",
    "        image = image.resize((int(image_width*factor), int(image_height*factor)), \n",
    "                             Image.ANTIALIAS)\n",
    "        image.save(out_file_path)"
   ]
  },
  {
   "cell_type": "code",
   "execution_count": 7,
   "metadata": {
    "collapsed": false
   },
   "outputs": [],
   "source": [
    "for file in pathlib.Path(out_clean_path).glob('*.*'):\n",
    "    try:\n",
    "        create_resized_image(out_clean_path, file.name, \n",
    "                             out_normal_path, file.name,\n",
    "                             standard_image_size)\n",
    "    except Exception as e:\n",
    "         print('Failed to create standard size: ' + file.name + \n",
    "               '\\n' + str(e))"
   ]
  },
  {
   "cell_type": "markdown",
   "metadata": {},
   "source": [
    "### Create thumbnails."
   ]
  },
  {
   "cell_type": "code",
   "execution_count": 8,
   "metadata": {
    "collapsed": false
   },
   "outputs": [],
   "source": [
    "def create_thumbnail_image(in_path, in_file, \n",
    "                           out_path, out_file,\n",
    "                           new_size=(128,128)):\n",
    "    \"\"\" \"\"\"\n",
    "    in_file_path = pathlib.Path(in_path, in_file)\n",
    "    out_file = pathlib.Path(out_file).stem + '.jpg'\n",
    "    out_file_path = pathlib.Path(out_path, out_file)\n",
    "    # \n",
    "    with in_file_path.open('rb') as f:\n",
    "        image = Image.open(f)\n",
    "        image.thumbnail(new_size, Image.ANTIALIAS)\n",
    "        image.save(out_file_path)"
   ]
  },
  {
   "cell_type": "code",
   "execution_count": 9,
   "metadata": {
    "collapsed": false
   },
   "outputs": [],
   "source": [
    "for file in pathlib.Path(out_clean_path).glob('*.*'):\n",
    "    try:\n",
    "        create_thumbnail_image(out_clean_path, file.name, \n",
    "                               out_thumbnails_path, file.name,\n",
    "                               thumbnail_size)\n",
    "    except Exception as e:\n",
    "        print('Failed to create thumbnails: ' + file.name + \n",
    "              '\\n' + str(e))"
   ]
  },
  {
   "cell_type": "code",
   "execution_count": null,
   "metadata": {
    "collapsed": true
   },
   "outputs": [],
   "source": []
  },
  {
   "cell_type": "code",
   "execution_count": null,
   "metadata": {
    "collapsed": true
   },
   "outputs": [],
   "source": []
  },
  {
   "cell_type": "code",
   "execution_count": null,
   "metadata": {
    "collapsed": true
   },
   "outputs": [],
   "source": []
  }
 ],
 "metadata": {
  "kernelspec": {
   "display_name": "Python 3",
   "language": "python",
   "name": "python3"
  },
  "language_info": {
   "codemirror_mode": {
    "name": "ipython",
    "version": 3
   },
   "file_extension": ".py",
   "mimetype": "text/x-python",
   "name": "python",
   "nbconvert_exporter": "python",
   "pygments_lexer": "ipython3",
   "version": "3.5.2"
  }
 },
 "nbformat": 4,
 "nbformat_minor": 0
}
