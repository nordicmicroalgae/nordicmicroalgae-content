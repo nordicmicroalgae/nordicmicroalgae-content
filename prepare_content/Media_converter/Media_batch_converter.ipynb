{
 "cells": [
  {
   "cell_type": "markdown",
   "metadata": {
    "collapsed": true
   },
   "source": [
    "# Nordic microalgae\n",
    "\n",
    "Media konverter. Converts images to formats used at http://nordicmicroalgae.org"
   ]
  },
  {
   "cell_type": "code",
   "execution_count": 20,
   "metadata": {
    "collapsed": true
   },
   "outputs": [],
   "source": [
    "# Settings:\n",
    "in_path = 'in_images'\n",
    "out_clean_path = 'out_clean_images'\n",
    "out_normal_path = 'out_normal_images'\n",
    "out_thumbnails_path = 'out_thumbnails_images'\n",
    "\n",
    "standard_image_size =(512, 512)\n",
    "thumbnail_size =(128, 128)\n"
   ]
  },
  {
   "cell_type": "code",
   "execution_count": 2,
   "metadata": {
    "collapsed": true
   },
   "outputs": [],
   "source": [
    "import os\n",
    "from PIL import Image"
   ]
  },
  {
   "cell_type": "code",
   "execution_count": 3,
   "metadata": {
    "collapsed": false
   },
   "outputs": [],
   "source": [
    "# Create out directories if needed.\n",
    "if not os.path.exists(out_clean_path):\n",
    "    os.makedirs(out_clean_path)\n",
    "if not os.path.exists(out_normal_path):\n",
    "    os.makedirs(out_normal_path)\n",
    "if not os.path.exists(out_thumbnails_path):\n",
    "    os.makedirs(out_thumbnails_path)"
   ]
  },
  {
   "cell_type": "markdown",
   "metadata": {},
   "source": [
    "### Create clean images."
   ]
  },
  {
   "cell_type": "code",
   "execution_count": 4,
   "metadata": {
    "collapsed": false
   },
   "outputs": [],
   "source": [
    "def create_clean_image(in_path, in_file, out_path, out_file):\n",
    "    \"\"\" \"\"\"\n",
    "    in_file_path = os.path.join(in_path, in_file)\n",
    "    out_file_path = os.path.join(out_path, out_file)\n",
    "    # Open the image and read data as pixel values.\n",
    "    image = Image.open(in_file_path)\n",
    "    data = list(image.getdata())\n",
    "    # Create a new empty image and add pixal data only.  \n",
    "    clean_image = Image.new(image.mode, image.size)\n",
    "    clean_image.putdata(data)\n",
    "    clean_image.save(out_file_path)\n",
    "# Test:\n",
    "# create_clean_image('', 'test.jpg', '', 'test_clean.jpg')"
   ]
  },
  {
   "cell_type": "code",
   "execution_count": 5,
   "metadata": {
    "collapsed": false
   },
   "outputs": [],
   "source": [
    "for file in os.listdir(in_path):\n",
    "    try:\n",
    "        create_clean_image(in_path, file, out_clean_path, file)\n",
    "    except Exception as e:\n",
    "        print('Failed to create clean image: ' + in_path + \n",
    "              '\\n' + str(e))\n"
   ]
  },
  {
   "cell_type": "markdown",
   "metadata": {},
   "source": [
    "### Create standard size images."
   ]
  },
  {
   "cell_type": "code",
   "execution_count": 30,
   "metadata": {
    "collapsed": false
   },
   "outputs": [],
   "source": [
    "def create_standard_sized_image(in_path, in_file, out_path, out_file):\n",
    "    \"\"\" \"\"\"\n",
    "    in_file_path = os.path.join(in_path, in_file)\n",
    "    out_file_path = os.path.join(out_path, out_file)\n",
    "    # \n",
    "    image = Image.open(in_file_path)\n",
    "    # Preserve ratio.\n",
    "    (image_width, image_height) = image.size\n",
    "    new_max_width, new_max_height = standard_image_size\n",
    "    factor = min(new_max_width/image_width, new_max_height/image_height)\n",
    "    image = image.resize((int(image_width*factor), int(image_height*factor)), Image.ANTIALIAS)\n",
    "    image.save(out_file_path, \"JPEG\")\n",
    "    #\n",
    "    #print(str(image_width), str(image_height))\n",
    "    #print(str(new_max_width), str(new_max_height))\n",
    "    #print(str(factor))\n",
    "    #print(str(image_width*factor), str(image_height*factor))\n",
    "# Test:\n",
    "create_thumbnail_image('', 'test.jpg', '', 'test_normal.jpg')"
   ]
  },
  {
   "cell_type": "code",
   "execution_count": 31,
   "metadata": {
    "collapsed": false
   },
   "outputs": [],
   "source": [
    "for file in os.listdir(out_clean_path):\n",
    "#    try:\n",
    "        create_standard_sized_image(out_clean_path, file, out_normal_path, file)\n",
    "#    except Exception as e:\n",
    "#        print('Failed to create thumbnails: ' + in_path + \n",
    "#              '\\n' + str(e))"
   ]
  },
  {
   "cell_type": "markdown",
   "metadata": {},
   "source": [
    "### Create thumbnails."
   ]
  },
  {
   "cell_type": "code",
   "execution_count": 6,
   "metadata": {
    "collapsed": false
   },
   "outputs": [],
   "source": [
    "def create_thumbnail_image(in_path, in_file, out_path, out_file):\n",
    "    \"\"\" \"\"\"\n",
    "    in_file_path = os.path.join(in_path, in_file)\n",
    "    out_file_path = os.path.join(out_path, out_file)\n",
    "    # \n",
    "    image = Image.open(in_file_path)\n",
    "    image.thumbnail(thumbnail_size, Image.ANTIALIAS)\n",
    "    # image.save(out_file_path, \"JPEG\")\n",
    "    image.save(out_file_path)\n",
    "# Test:\n",
    "create_thumbnail_image('', 'test.jpg', '', 'test_thumbnail.jpg')"
   ]
  },
  {
   "cell_type": "code",
   "execution_count": 7,
   "metadata": {
    "collapsed": false
   },
   "outputs": [],
   "source": [
    "for file in os.listdir(out_clean_path):\n",
    "    try:\n",
    "        create_thumbnail_image(out_clean_path, file, out_thumbnails_path, file)\n",
    "    except Exception as e:\n",
    "        print('Failed to create thumbnails: ' + in_path + \n",
    "              '\\n' + str(e))"
   ]
  },
  {
   "cell_type": "code",
   "execution_count": null,
   "metadata": {
    "collapsed": true
   },
   "outputs": [],
   "source": []
  },
  {
   "cell_type": "code",
   "execution_count": null,
   "metadata": {
    "collapsed": false
   },
   "outputs": [],
   "source": []
  },
  {
   "cell_type": "code",
   "execution_count": null,
   "metadata": {
    "collapsed": true
   },
   "outputs": [],
   "source": []
  },
  {
   "cell_type": "code",
   "execution_count": null,
   "metadata": {
    "collapsed": true
   },
   "outputs": [],
   "source": []
  },
  {
   "cell_type": "code",
   "execution_count": null,
   "metadata": {
    "collapsed": true
   },
   "outputs": [],
   "source": []
  },
  {
   "cell_type": "code",
   "execution_count": null,
   "metadata": {
    "collapsed": true
   },
   "outputs": [],
   "source": []
  },
  {
   "cell_type": "code",
   "execution_count": null,
   "metadata": {
    "collapsed": true
   },
   "outputs": [],
   "source": []
  },
  {
   "cell_type": "code",
   "execution_count": null,
   "metadata": {
    "collapsed": true
   },
   "outputs": [],
   "source": []
  },
  {
   "cell_type": "code",
   "execution_count": null,
   "metadata": {
    "collapsed": true
   },
   "outputs": [],
   "source": []
  },
  {
   "cell_type": "code",
   "execution_count": null,
   "metadata": {
    "collapsed": true
   },
   "outputs": [],
   "source": []
  },
  {
   "cell_type": "code",
   "execution_count": null,
   "metadata": {
    "collapsed": true
   },
   "outputs": [],
   "source": []
  },
  {
   "cell_type": "code",
   "execution_count": null,
   "metadata": {
    "collapsed": true
   },
   "outputs": [],
   "source": []
  }
 ],
 "metadata": {
  "kernelspec": {
   "display_name": "Python 3",
   "language": "python",
   "name": "python3"
  },
  "language_info": {
   "codemirror_mode": {
    "name": "ipython",
    "version": 3
   },
   "file_extension": ".py",
   "mimetype": "text/x-python",
   "name": "python",
   "nbconvert_exporter": "python",
   "pygments_lexer": "ipython3",
   "version": "3.5.3"
  }
 },
 "nbformat": 4,
 "nbformat_minor": 0
}
