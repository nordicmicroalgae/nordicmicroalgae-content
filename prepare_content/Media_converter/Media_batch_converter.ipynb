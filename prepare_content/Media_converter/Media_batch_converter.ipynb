{
 "cells": [
  {
   "cell_type": "markdown",
   "metadata": {
    "collapsed": true
   },
   "source": [
    "# Nordic microalgae\n",
    "\n",
    "Media konverter. Converts images to formats used at http://nordicmicroalgae.org"
   ]
  },
  {
   "cell_type": "code",
   "execution_count": 1,
   "metadata": {
    "collapsed": true
   },
   "outputs": [],
   "source": [
    "# Settings:\n",
    "in_path = 'in_images'\n",
    "out_clean_path = 'out_clean_images'\n",
    "out_normal_path = 'out_normal_images'\n",
    "out_thumbnails_path = 'out_thumbnail_images'\n",
    "\n",
    "standard_image_size = (512, 256)\n",
    "thumbnail_size = (128, 128)"
   ]
  },
  {
   "cell_type": "code",
   "execution_count": 2,
   "metadata": {
    "collapsed": true
   },
   "outputs": [],
   "source": [
    "import pathlib # Python >3.4\n",
    "from PIL import Image"
   ]
  },
  {
   "cell_type": "code",
   "execution_count": 3,
   "metadata": {
    "collapsed": false
   },
   "outputs": [],
   "source": [
    "# Create out directories if needed.\n",
    "if not pathlib.Path(out_clean_path).exists():\n",
    "    pathlib.Path(out_clean_path).mkdir(parents=True)\n",
    "if not pathlib.Path(out_normal_path).exists():\n",
    "    pathlib.Path(out_normal_path).mkdir(parents=True)\n",
    "if not pathlib.Path(out_thumbnails_path).exists():\n",
    "    pathlib.Path(out_thumbnails_path).mkdir(parents=True)"
   ]
  },
  {
   "cell_type": "markdown",
   "metadata": {},
   "source": [
    "### Create clean images."
   ]
  },
  {
   "cell_type": "code",
   "execution_count": 4,
   "metadata": {
    "collapsed": false
   },
   "outputs": [],
   "source": [
    "def create_clean_jpg_image(in_path, in_file, \n",
    "                           out_path, out_file):\n",
    "    \"\"\" \"\"\"\n",
    "    in_file_path = pathlib.Path(in_path, in_file)\n",
    "    out_file = pathlib.Path(out_file).stem + '.jpg'\n",
    "    out_file_path = pathlib.Path(out_path, out_file)\n",
    "    # Open the image and read data as pixel values.\n",
    "    image = Image.open(in_file_path)\n",
    "    if (pathlib.Path(in_file).suffix in ['.gif', '.png']):\n",
    "        image = image.convert('RGBA') # Needed for GIF and PNG.\n",
    "    data = list(image.getdata())\n",
    "    # Create a new empty image and add pixal data only.  \n",
    "    clean_image = Image.new(image.mode, image.size)\n",
    "    clean_image.putdata(data)\n",
    "    clean_image.save(out_file_path)"
   ]
  },
  {
   "cell_type": "code",
   "execution_count": 5,
   "metadata": {
    "collapsed": false,
    "scrolled": true
   },
   "outputs": [],
   "source": [
    "for file in pathlib.Path(in_path).glob('*.*'):\n",
    "    try:\n",
    "        create_clean_jpg_image(in_path, file.name, \n",
    "                               out_clean_path, file.name)\n",
    "    except Exception as e:\n",
    "        print('Failed to create clean image: ' + file + \n",
    "              '\\n' + str(e))\n"
   ]
  },
  {
   "cell_type": "markdown",
   "metadata": {},
   "source": [
    "### Create standard size images."
   ]
  },
  {
   "cell_type": "code",
   "execution_count": 6,
   "metadata": {
    "collapsed": false
   },
   "outputs": [],
   "source": [
    "def create_resized_image(in_path, in_file, \n",
    "                         out_path, out_file,\n",
    "                         new_size=(512, 512)):\n",
    "    \"\"\" \"\"\"\n",
    "    in_file_path = pathlib.Path(in_path, in_file)\n",
    "    out_file = pathlib.Path(out_file).stem + '.jpg'\n",
    "    out_file_path = pathlib.Path(out_path, out_file)\n",
    "    # \n",
    "    image = Image.open(in_file_path)\n",
    "    # Preserve ratio.\n",
    "    (image_width, image_height) = image.size\n",
    "    (new_max_width, new_max_height) = new_size\n",
    "    factor = min(new_max_width/image_width, new_max_height/image_height)\n",
    "    image = image.resize((int(image_width*factor), int(image_height*factor)), \n",
    "                         Image.ANTIALIAS)\n",
    "    image.save(out_file_path)"
   ]
  },
  {
   "cell_type": "code",
   "execution_count": 7,
   "metadata": {
    "collapsed": false
   },
   "outputs": [],
   "source": [
    "for file in pathlib.Path(out_clean_path).glob('*.*'):\n",
    "    try:\n",
    "        create_resized_image(out_clean_path, file.name, \n",
    "                             out_normal_path, file.name,\n",
    "                             standard_image_size)\n",
    "    except Exception as e:\n",
    "         print('Failed to create standard size: ' + file + \n",
    "               '\\n' + str(e))"
   ]
  },
  {
   "cell_type": "markdown",
   "metadata": {},
   "source": [
    "### Create thumbnails."
   ]
  },
  {
   "cell_type": "code",
   "execution_count": 8,
   "metadata": {
    "collapsed": false
   },
   "outputs": [],
   "source": [
    "def create_thumbnail_image(in_path, in_file, \n",
    "                           out_path, out_file,\n",
    "                           new_size=(128,128)):\n",
    "    \"\"\" \"\"\"\n",
    "    in_file_path = pathlib.Path(in_path, in_file)\n",
    "    out_file = pathlib.Path(out_file).stem + '.jpg'\n",
    "    out_file_path = pathlib.Path(out_path, out_file)\n",
    "    # \n",
    "    image = Image.open(in_file_path)\n",
    "    image.thumbnail(new_size, Image.ANTIALIAS)\n",
    "    image.save(out_file_path)"
   ]
  },
  {
   "cell_type": "code",
   "execution_count": 9,
   "metadata": {
    "collapsed": false
   },
   "outputs": [],
   "source": [
    "for file in pathlib.Path(out_clean_path).glob('*.*'):\n",
    "    try:\n",
    "        create_thumbnail_image(out_clean_path, file.name, \n",
    "                               out_thumbnails_path, file.name,\n",
    "                               thumbnail_size)\n",
    "    except Exception as e:\n",
    "        print('Failed to create thumbnails: ' + file + \n",
    "              '\\n' + str(e))"
   ]
  },
  {
   "cell_type": "code",
   "execution_count": null,
   "metadata": {
    "collapsed": true
   },
   "outputs": [],
   "source": []
  },
  {
   "cell_type": "code",
   "execution_count": null,
   "metadata": {
    "collapsed": true
   },
   "outputs": [],
   "source": []
  },
  {
   "cell_type": "code",
   "execution_count": null,
   "metadata": {
    "collapsed": true
   },
   "outputs": [],
   "source": []
  }
 ],
 "metadata": {
  "kernelspec": {
   "display_name": "Python 3",
   "language": "python",
   "name": "python3"
  },
  "language_info": {
   "codemirror_mode": {
    "name": "ipython",
    "version": 3
   },
   "file_extension": ".py",
   "mimetype": "text/x-python",
   "name": "python",
   "nbconvert_exporter": "python",
   "pygments_lexer": "ipython3",
   "version": "3.5.2"
  }
 },
 "nbformat": 4,
 "nbformat_minor": 0
}
