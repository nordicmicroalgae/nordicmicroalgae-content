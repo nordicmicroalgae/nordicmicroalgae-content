{
 "cells": [
  {
   "cell_type": "markdown",
   "metadata": {
    "collapsed": true
   },
   "source": [
    "## Nordicmicroalgae NOMAC 2017.\n",
    "\n",
    "Prepares the NOMAC 2017 species list."
   ]
  },
  {
   "cell_type": "code",
   "execution_count": 1,
   "metadata": {
    "collapsed": true
   },
   "outputs": [],
   "source": [
    "import pandas as pd\n",
    "import numpy as np\n",
    "import datetime"
   ]
  },
  {
   "cell_type": "markdown",
   "metadata": {},
   "source": [
    "#### Import species files downloaded from Artsnavnebase."
   ]
  },
  {
   "cell_type": "code",
   "execution_count": 2,
   "metadata": {
    "collapsed": false
   },
   "outputs": [],
   "source": [
    "def read_from_artsnavnebase(file_name):\n",
    "    df = pd.read_csv('./in_data/' + file_name, \n",
    "#                 usecols=['Rike', 'Rekke', 'Klasse', 'Orden', 'Familie', 'Slekt', 'Art', 'Underart', \n",
    "#                          'Varietet', 'Form', 'Autorstreng', 'Hovedstatus', 'Bistatus'], \n",
    "                          sep=';', encoding='cp1252',\n",
    "                          na_values=['nan'], keep_default_na=False, \n",
    "                          )\n",
    "    #\n",
    "    old_header=['Rike', 'Rekke', 'Klasse', 'Orden', 'Familie', 'Slekt', 'Art', 'Underart', \n",
    "                'Varietet', 'Form', 'Autorstreng', 'Hovedstatus', 'Bistatus'] \n",
    "    new_header=['kingdom', 'phylum', 'class_name', 'order', 'family', 'genus', 'species', 'subspecies', \n",
    "                'variety', 'forma', 'author', 'status', 'status-2'] \n",
    "    df.rename(columns=dict(zip(old_header, new_header)), inplace=True)#df.fillna('', inplace=True)\n",
    "    #\n",
    "    df['source'] = 'Artsnavnebase 20170303'\n",
    "    return df"
   ]
  },
  {
   "cell_type": "code",
   "execution_count": 3,
   "metadata": {
    "collapsed": false
   },
   "outputs": [],
   "source": [
    "df1 = read_from_artsnavnebase('Chlorophyta_ArtsnavnebaseCSV_20170303.txt')\n",
    "df2 = read_from_artsnavnebase('Chromista_ArtsnavnebaseCSV_20170303.txt')\n",
    "df3 = read_from_artsnavnebase('Cyanobacteria_ArtsnavnebaseCSV_20170303.txt')\n",
    "df4 = read_from_artsnavnebase('Plantae_Glaucophyta_ArtsnavnebaseCSV_20170303.txt')\n",
    "df5 = read_from_artsnavnebase('Plantae_Rhodophyta_ArtsnavnebaseCSV_20170303.txt')\n",
    "df6 = read_from_artsnavnebase('Protozoa_ArtsnavnebaseCSV_20170303.txt')"
   ]
  },
  {
   "cell_type": "code",
   "execution_count": 4,
   "metadata": {
    "collapsed": false
   },
   "outputs": [
    {
     "name": "stdout",
     "output_type": "stream",
     "text": [
      "Length df1: 1289\n",
      "Length df2: 5388\n",
      "Length df3: 831\n",
      "Length df4: 10\n",
      "Length df5: 501\n",
      "Length df6: 720\n",
      "Length total df: 8739\n"
     ]
    }
   ],
   "source": [
    "print('Length df1: ' + str(len(df1)))\n",
    "print('Length df2: ' + str(len(df2)))\n",
    "print('Length df3: ' + str(len(df3)))\n",
    "print('Length df4: ' + str(len(df4)))\n",
    "print('Length df5: ' + str(len(df5)))\n",
    "print('Length df6: ' + str(len(df6)))\n",
    "df = pd.concat([df1, df2, df3, df4, df5, df6])\n",
    "print('Length total df: ' + str(len(df)))"
   ]
  },
  {
   "cell_type": "code",
   "execution_count": 5,
   "metadata": {
    "collapsed": false
   },
   "outputs": [],
   "source": [
    "# For test.\n",
    "#df.to_csv('./out_data/' + 'all_species_from_artsnavnebase.txt',\n",
    "#         sep='\\t', encoding='cp1252', index = False)"
   ]
  },
  {
   "cell_type": "markdown",
   "metadata": {},
   "source": [
    "#### Remove rows not ending in a used rank (for example \"Underklasse\" or \"Overorden\"). "
   ]
  },
  {
   "cell_type": "code",
   "execution_count": 6,
   "metadata": {
    "collapsed": true
   },
   "outputs": [],
   "source": [
    "df = df.assign(last_used_rank=\"\")"
   ]
  },
  {
   "cell_type": "code",
   "execution_count": 7,
   "metadata": {
    "collapsed": false
   },
   "outputs": [
    {
     "name": "stdout",
     "output_type": "stream",
     "text": [
      "Length df: 8739\n"
     ]
    }
   ],
   "source": [
    "ranks = ['Underrike','phylum','Underrekke',\n",
    "         'Overklasse','class_name','Underklasse',\n",
    "         'Infraklasse','Kohort','Overorden',\n",
    "         'order','Underorden','Infraorden',\n",
    "         'Overfamilie','family','Underfamilie',\n",
    "         'Tribus','Undertribus','genus','Underslekt',\n",
    "         'Seksjon','species','subspecies','variety','forma']\n",
    "#\n",
    "for index, row in df.iterrows():    \n",
    "    last_used_rank = 'kingdom'\n",
    "    for rank in ranks:\n",
    "        value = row.loc[rank]\n",
    "        if value:\n",
    "            last_used_rank = rank\n",
    "    #\n",
    "    df.ix[index, 'last_used_rank'] = last_used_rank\n",
    "#\n",
    "print('Length df: ' + str(len(df)))\n",
    "#df.head()"
   ]
  },
  {
   "cell_type": "code",
   "execution_count": 8,
   "metadata": {
    "collapsed": false
   },
   "outputs": [
    {
     "name": "stdout",
     "output_type": "stream",
     "text": [
      "Length df: 8522\n"
     ]
    }
   ],
   "source": [
    "rank_not_in_kofsa = ['Underrike','Underrekke',\n",
    "         'Overklasse','Underklasse',\n",
    "         'Infraklasse','Kohort','Overorden',\n",
    "         'Underorden','Infraorden',\n",
    "         'Overfamilie','Underfamilie',\n",
    "         'Tribus','Undertribus','Underslekt',\n",
    "         'Seksjon']\n",
    "df = df[~df.last_used_rank.isin(rank_not_in_kofsa)]\n",
    "#\n",
    "print('Length df: ' + str(len(df)))\n",
    "#df.head()"
   ]
  },
  {
   "cell_type": "markdown",
   "metadata": {},
   "source": [
    "#### Remove columns not needed."
   ]
  },
  {
   "cell_type": "code",
   "execution_count": 9,
   "metadata": {
    "collapsed": false
   },
   "outputs": [
    {
     "data": {
      "text/html": [
       "<div>\n",
       "<table border=\"1\" class=\"dataframe\">\n",
       "  <thead>\n",
       "    <tr style=\"text-align: right;\">\n",
       "      <th></th>\n",
       "      <th>kingdom</th>\n",
       "      <th>phylum</th>\n",
       "      <th>class_name</th>\n",
       "      <th>order</th>\n",
       "      <th>family</th>\n",
       "      <th>genus</th>\n",
       "      <th>species</th>\n",
       "      <th>subspecies</th>\n",
       "      <th>variety</th>\n",
       "      <th>forma</th>\n",
       "      <th>author</th>\n",
       "      <th>status</th>\n",
       "      <th>source</th>\n",
       "    </tr>\n",
       "  </thead>\n",
       "  <tbody>\n",
       "    <tr>\n",
       "      <th>0</th>\n",
       "      <td>Plantae</td>\n",
       "      <td>Chlorophyta</td>\n",
       "      <td></td>\n",
       "      <td></td>\n",
       "      <td></td>\n",
       "      <td></td>\n",
       "      <td></td>\n",
       "      <td></td>\n",
       "      <td></td>\n",
       "      <td></td>\n",
       "      <td>Rchb.</td>\n",
       "      <td>Gyldig</td>\n",
       "      <td>Artsnavnebase 20170303</td>\n",
       "    </tr>\n",
       "    <tr>\n",
       "      <th>1</th>\n",
       "      <td>Plantae</td>\n",
       "      <td>Chlorophyta</td>\n",
       "      <td>Bryopsidophyceae</td>\n",
       "      <td></td>\n",
       "      <td></td>\n",
       "      <td></td>\n",
       "      <td></td>\n",
       "      <td></td>\n",
       "      <td></td>\n",
       "      <td></td>\n",
       "      <td>Bessey</td>\n",
       "      <td>Gyldig</td>\n",
       "      <td>Artsnavnebase 20170303</td>\n",
       "    </tr>\n",
       "    <tr>\n",
       "      <th>2</th>\n",
       "      <td>Plantae</td>\n",
       "      <td>Chlorophyta</td>\n",
       "      <td>Chlorophyceae</td>\n",
       "      <td></td>\n",
       "      <td></td>\n",
       "      <td></td>\n",
       "      <td></td>\n",
       "      <td></td>\n",
       "      <td></td>\n",
       "      <td></td>\n",
       "      <td>Wille</td>\n",
       "      <td>Gyldig</td>\n",
       "      <td>Artsnavnebase 20170303</td>\n",
       "    </tr>\n",
       "    <tr>\n",
       "      <th>3</th>\n",
       "      <td>Plantae</td>\n",
       "      <td>Chlorophyta</td>\n",
       "      <td>Nephrophyceae</td>\n",
       "      <td></td>\n",
       "      <td></td>\n",
       "      <td></td>\n",
       "      <td></td>\n",
       "      <td></td>\n",
       "      <td></td>\n",
       "      <td></td>\n",
       "      <td>Cavalier-Smith, 1993</td>\n",
       "      <td>Gyldig</td>\n",
       "      <td>Artsnavnebase 20170303</td>\n",
       "    </tr>\n",
       "    <tr>\n",
       "      <th>4</th>\n",
       "      <td>Plantae</td>\n",
       "      <td>Chlorophyta</td>\n",
       "      <td>Pedinophyceae</td>\n",
       "      <td></td>\n",
       "      <td></td>\n",
       "      <td></td>\n",
       "      <td></td>\n",
       "      <td></td>\n",
       "      <td></td>\n",
       "      <td></td>\n",
       "      <td>Moestrup</td>\n",
       "      <td>Gyldig</td>\n",
       "      <td>Artsnavnebase 20170303</td>\n",
       "    </tr>\n",
       "  </tbody>\n",
       "</table>\n",
       "</div>"
      ],
      "text/plain": [
       "   kingdom       phylum        class_name order family genus species  \\\n",
       "0  Plantae  Chlorophyta                                                \n",
       "1  Plantae  Chlorophyta  Bryopsidophyceae                              \n",
       "2  Plantae  Chlorophyta     Chlorophyceae                              \n",
       "3  Plantae  Chlorophyta     Nephrophyceae                              \n",
       "4  Plantae  Chlorophyta     Pedinophyceae                              \n",
       "\n",
       "  subspecies variety forma                author  status  \\\n",
       "0                                          Rchb.  Gyldig   \n",
       "1                                         Bessey  Gyldig   \n",
       "2                                          Wille  Gyldig   \n",
       "3                           Cavalier-Smith, 1993  Gyldig   \n",
       "4                                       Moestrup  Gyldig   \n",
       "\n",
       "                   source  \n",
       "0  Artsnavnebase 20170303  \n",
       "1  Artsnavnebase 20170303  \n",
       "2  Artsnavnebase 20170303  \n",
       "3  Artsnavnebase 20170303  \n",
       "4  Artsnavnebase 20170303  "
      ]
     },
     "execution_count": 9,
     "metadata": {},
     "output_type": "execute_result"
    }
   ],
   "source": [
    "used_columns = ['kingdom', 'phylum', 'class_name', 'order', 'family', 'genus', 'species', 'subspecies', \n",
    "                'variety', 'forma', 'author', 'status', 'source'] \n",
    "for column in list(df):\n",
    "    if column not in used_columns:\n",
    "        df.drop(column, axis=1, inplace=True)\n",
    "#\n",
    "df.head()"
   ]
  },
  {
   "cell_type": "markdown",
   "metadata": {},
   "source": [
    "#### Filter on status = 'Gyldig' to get valid taxa."
   ]
  },
  {
   "cell_type": "code",
   "execution_count": 10,
   "metadata": {
    "collapsed": false
   },
   "outputs": [
    {
     "name": "stdout",
     "output_type": "stream",
     "text": [
      "Length df_valid: 8522\n"
     ]
    }
   ],
   "source": [
    "df_valid = df[df.status=='Gyldig']\n",
    "print('Length df_valid: ' + str(len(df_valid)))"
   ]
  },
  {
   "cell_type": "code",
   "execution_count": 11,
   "metadata": {
    "collapsed": false
   },
   "outputs": [],
   "source": [
    "# For test.\n",
    "#df_valid.to_csv('./out_data/' + 'valid_species_from_artsnavnebase.txt',\n",
    "#               sep='\\t', encoding='cp1252', index = False)"
   ]
  },
  {
   "cell_type": "markdown",
   "metadata": {
    "collapsed": false
   },
   "source": [
    "#### Extract kingdom and phylum and add to NOMAC 2017.\n",
    "Note: Not taxa below in rank."
   ]
  },
  {
   "cell_type": "code",
   "execution_count": 12,
   "metadata": {
    "collapsed": true
   },
   "outputs": [],
   "source": [
    "#add_kingdom_list = [\"Bacteria\", \"Chromista\", \"Plantae\", \"Protozoa\"]"
   ]
  },
  {
   "cell_type": "code",
   "execution_count": 13,
   "metadata": {
    "collapsed": true
   },
   "outputs": [],
   "source": [
    "#add_phylum_list = [\"Cyanobacteria\", \"Bacillariophyta\", \"Cercozoa\", \"Haptophyta\", \"Miozoa\", \n",
    "#                   \"Not_assigned_3409\", \"Ochrophyta\", \"Oomycota\", \"Charophyta\", \"Chlorophyta\", \n",
    "#                   \"Cyanidiophyta\", \"Glaucophyta\", \"Rhodophyta\", \"Streptophyta\", \n",
    "#                   \"(Rekke) Incertae sedis\", \"Choanozoa\", \"Euglenozoa\", \"Metamonada\", \n",
    "#                   \"Myzozoa\"]"
   ]
  },
  {
   "cell_type": "code",
   "execution_count": 14,
   "metadata": {
    "collapsed": false
   },
   "outputs": [],
   "source": [
    "#df_top_kingdom = df_valid[df_valid.phylum=='']\n",
    "#df_top_kingdom = df_top_kingdom[df_top_kingdom.kingdom.isin(add_kingdom_list)]\n",
    "#print('Length df_top_kingdom: ' + str(len(df_top_kingdom)))\n",
    "#df_top_kingdom"
   ]
  },
  {
   "cell_type": "code",
   "execution_count": 15,
   "metadata": {
    "collapsed": false
   },
   "outputs": [],
   "source": [
    "#df_top_phylum = df_valid[df_valid.class_name=='']\n",
    "#df_top_phylum = df_top_phylum[df_top_phylum.phylum.isin(add_phylum_list)]\n",
    "#print('Length df_valid_phylum: ' + str(len(df_top_phylum)))\n",
    "##df_top_phylum"
   ]
  },
  {
   "cell_type": "markdown",
   "metadata": {
    "collapsed": true
   },
   "source": [
    "#### Add phylum and class recursively."
   ]
  },
  {
   "cell_type": "code",
   "execution_count": 16,
   "metadata": {
    "collapsed": false
   },
   "outputs": [],
   "source": [
    "##phylum_list = [\"Tracheophyta\", \"Chromista phylum incertae sedis\", \"Ciliophora\", \"Hyphochytriomycota\"]\n",
    "#add_all_phylum_list = [\"Chromista phylum incertae sedis\", \"Ciliophora\", \"Hyphochytriomycota\"]\n",
    "##phylum_list"
   ]
  },
  {
   "cell_type": "code",
   "execution_count": 17,
   "metadata": {
    "collapsed": false
   },
   "outputs": [],
   "source": [
    "#add_all_class_list = [\"Charophyceae\", \"Chlorokybophyceae\", \"Coleochaetophyceae\", \"Conjugatophyceae \", \n",
    "#\"Klebsormidiophyceae\", \"Mesostigmatophyceae\", \"Chlorodendrophyceae\", \"Chlorophyceae\", \n",
    "#\"Chlorophyta incertae sedis\", \"Mamiellophyceae\", \"Nephrophyceae\", \"Palmophyllophyceae\", \n",
    "#\"Pedinophyceae\", \"Pyramimonadophyceae\", \"Trebouxiophyceae\", \"Ulvophyceae\", \"Glaucophyceae\", \n",
    "#\"Bangiophyceae\", \"Compsopogonophyceae\", \"Cyanidiophyceae\", \"Florideophyceae\", \n",
    "#\"Porphyridiophyceae\", \"Rhodellophyceae\", \"Rhodophyta incertae sedis\", \"Stylonematophyceae\", \n",
    "#\"Bacillariophyta classis incertae sedis\", \"Bacillariophyceae\", \"Coscinodiscophyceae\", \n",
    "#\"Mediophyceae\", \"Bikosea\", \"Chlorarachniophyceae\", \"Filosa\", \"Imbricatea\", \"Cryptophyceae\", \n",
    "#\"Polythalamea\", \"Foraminifera incertae sedis\", \"Globothalamea\", \"Monothalamea\", \"Tubothalamea\", \n",
    "#\"Coccolithophyceae\", \"Pavlovophyceae\", \"Katablepharidophyceae\", \"Apicomonadea\", \"Colponemea\", \n",
    "#\"Dinophyceae\", \"Ellobiopsea\", \"Myzomonadea\", \"Noctilucea\", \"Oxyrrhida\", \"Perkinsea\", \"Syndinea\", \n",
    "#\"Bolidophyceae\", \"Chrysomerophyceae\", \"Chrysophyceae\", \"Dictyochophyceae\", \"Pelagophyceae\", \n",
    "#\"Phaeophyceae\", \"Phaeothamniophyceae\", \"Picophagophyceae\", \"Pinguiophyceae\", \"Placidiophyceae\", \n",
    "#\"Raphidophyceae\", \"Schizocladiophyceae\", \"Synchromophyceae\", \"Synurophyceae\", \"Xanthophyceae\", \n",
    "#\"Oomycetes\", \"Telonemia classis ineditae\", \"Choanoflagellatea\", \"Cristidiscoidia\", \"Diplonemea\", \n",
    "#\"Euglenophyceae\", \"Kinetoplastea\", \"Postgaardea\", \"Jakobea\", \"Trepomonadea\", \"Heterolobosea\", \n",
    "#\"Picomonadea\", \"Ebriophyceae\", \"Cyanophyceae\"]\n",
    "##class_list"
   ]
  },
  {
   "cell_type": "code",
   "execution_count": 18,
   "metadata": {
    "collapsed": false
   },
   "outputs": [],
   "source": [
    "#df_add_all_phylum = df_valid[df_valid.phylum.isin(add_all_phylum_list)]\n",
    "#print('Length df_add_all_phylum: ' + str(len(df_add_all_phylum)))\n",
    "##df_add_all_phylum.head()"
   ]
  },
  {
   "cell_type": "code",
   "execution_count": 19,
   "metadata": {
    "collapsed": false
   },
   "outputs": [],
   "source": [
    "#df_add_all_class = df_valid[df_valid.class_name.isin(add_all_class_list)]\n",
    "#print('Length df_add_all_class: ' + str(len(df_add_all_class)))\n",
    "##df_add_all_class.head()"
   ]
  },
  {
   "cell_type": "markdown",
   "metadata": {},
   "source": [
    "#### Concatenate to NOMAC 2017."
   ]
  },
  {
   "cell_type": "code",
   "execution_count": 20,
   "metadata": {
    "collapsed": false
   },
   "outputs": [
    {
     "name": "stdout",
     "output_type": "stream",
     "text": [
      "Length df_nomac2017: 8522\n"
     ]
    }
   ],
   "source": [
    "#df_nomac2017 = pd.concat([df_top_kingdom, df_top_phylum, df_add_all_phylum, df_add_all_class])\n",
    "df_nomac2017 = df_valid\n",
    "print('Length df_nomac2017: ' + str(len(df_nomac2017)))"
   ]
  },
  {
   "cell_type": "markdown",
   "metadata": {},
   "source": [
    "#### Test if the add_all_phylum_list and add_all_class_list content was found in NOMAC 2017."
   ]
  },
  {
   "cell_type": "code",
   "execution_count": 21,
   "metadata": {
    "collapsed": false
   },
   "outputs": [],
   "source": [
    "#for phylum in add_all_phylum_list:\n",
    "#    df_test = df_nomac2017[df_nomac2017.phylum == phylum]\n",
    "#    print(\"Test phylum: \" + phylum + \"          Number of rows: \" + str(len(df_test)) )"
   ]
  },
  {
   "cell_type": "code",
   "execution_count": 22,
   "metadata": {
    "collapsed": false
   },
   "outputs": [],
   "source": [
    "#for class_name in add_all_class_list:\n",
    "#    df_test = df_nomac2017[df_nomac2017.class_name == class_name]\n",
    "#    print(\"Test class: \" + class_name + \"          Number of rows: \" + str(len(df_test)) )"
   ]
  },
  {
   "cell_type": "markdown",
   "metadata": {},
   "source": [
    "#### Remove taxa recursively."
   ]
  },
  {
   "cell_type": "code",
   "execution_count": 23,
   "metadata": {
    "collapsed": false
   },
   "outputs": [],
   "source": [
    "remove_phylum_list = ['Rhodophyta', 'Oomycota', ]\n",
    "remove_class_list = ['Ulvophyceae', 'Schizocladiophyceae']\n",
    "remove_order_list = ['Vaucheriales', 'Tribonemiales', 'Bangiophyceae', 'Compsogonophyceae', \n",
    "                     'Compsopogonophyceae', 'Florideophyceae', 'Phaeophyceae', 'Phaeothamniophyceae', ]\n",
    "remove_family_list = []\n",
    "remove_genus_list = ['Prasiola', 'Rosenvingiella', ]"
   ]
  },
  {
   "cell_type": "code",
   "execution_count": 24,
   "metadata": {
    "collapsed": false
   },
   "outputs": [
    {
     "name": "stdout",
     "output_type": "stream",
     "text": [
      "Length df_nomac2017 before: 8522\n",
      "Length df_nomac2017 after phylym removed : 7820\n",
      "Length df_nomac2017 after class removed : 7597\n",
      "Length df_nomac2017 after order removed : 7561\n",
      "Length df_nomac2017 after family removed : 7561\n",
      "Length df_nomac2017 after genus removed : 7550\n"
     ]
    }
   ],
   "source": [
    "print('Length df_nomac2017 before: ' + str(len(df_nomac2017)))\n",
    "df_nomac2017 = df_nomac2017[~df_nomac2017.phylum.isin(remove_phylum_list)]\n",
    "print('Length df_nomac2017 after phylym removed : ' + str(len(df_nomac2017)))\n",
    "df_nomac2017 = df_nomac2017[~df_nomac2017.class_name.isin(remove_class_list)]\n",
    "print('Length df_nomac2017 after class removed : ' + str(len(df_nomac2017)))\n",
    "df_nomac2017 = df_nomac2017[~df_nomac2017.order.isin(remove_order_list)]\n",
    "print('Length df_nomac2017 after order removed : ' + str(len(df_nomac2017)))\n",
    "df_nomac2017 = df_nomac2017[~df_nomac2017.family.isin(remove_family_list)]\n",
    "print('Length df_nomac2017 after family removed : ' + str(len(df_nomac2017)))\n",
    "df_nomac2017 = df_nomac2017[~df_nomac2017.genus.isin(remove_genus_list)]\n",
    "print('Length df_nomac2017 after genus removed : ' + str(len(df_nomac2017)))"
   ]
  },
  {
   "cell_type": "markdown",
   "metadata": {},
   "source": [
    "#### Calculate new columns for NOMAC 2017."
   ]
  },
  {
   "cell_type": "code",
   "execution_count": 25,
   "metadata": {
    "collapsed": false
   },
   "outputs": [
    {
     "data": {
      "text/html": [
       "<div>\n",
       "<table border=\"1\" class=\"dataframe\">\n",
       "  <thead>\n",
       "    <tr style=\"text-align: right;\">\n",
       "      <th></th>\n",
       "      <th>kingdom</th>\n",
       "      <th>phylum</th>\n",
       "      <th>class_name</th>\n",
       "      <th>order</th>\n",
       "      <th>family</th>\n",
       "      <th>genus</th>\n",
       "      <th>species</th>\n",
       "      <th>subspecies</th>\n",
       "      <th>variety</th>\n",
       "      <th>forma</th>\n",
       "      <th>author</th>\n",
       "      <th>status</th>\n",
       "      <th>source</th>\n",
       "      <th>nomac_scientific_name</th>\n",
       "      <th>nomac_rank</th>\n",
       "      <th>nomac_author</th>\n",
       "      <th>nomac_parent</th>\n",
       "      <th>nomac_classification</th>\n",
       "      <th>nomac_source</th>\n",
       "    </tr>\n",
       "  </thead>\n",
       "  <tbody>\n",
       "    <tr>\n",
       "      <th>0</th>\n",
       "      <td>Plantae</td>\n",
       "      <td>Chlorophyta</td>\n",
       "      <td></td>\n",
       "      <td></td>\n",
       "      <td></td>\n",
       "      <td></td>\n",
       "      <td></td>\n",
       "      <td></td>\n",
       "      <td></td>\n",
       "      <td></td>\n",
       "      <td>Rchb.</td>\n",
       "      <td>Gyldig</td>\n",
       "      <td>Artsnavnebase 20170303</td>\n",
       "      <td></td>\n",
       "      <td></td>\n",
       "      <td>Rchb.</td>\n",
       "      <td></td>\n",
       "      <td></td>\n",
       "      <td>Artsnavnebase 20170303</td>\n",
       "    </tr>\n",
       "    <tr>\n",
       "      <th>1</th>\n",
       "      <td>Plantae</td>\n",
       "      <td>Chlorophyta</td>\n",
       "      <td>Bryopsidophyceae</td>\n",
       "      <td></td>\n",
       "      <td></td>\n",
       "      <td></td>\n",
       "      <td></td>\n",
       "      <td></td>\n",
       "      <td></td>\n",
       "      <td></td>\n",
       "      <td>Bessey</td>\n",
       "      <td>Gyldig</td>\n",
       "      <td>Artsnavnebase 20170303</td>\n",
       "      <td></td>\n",
       "      <td></td>\n",
       "      <td>Bessey</td>\n",
       "      <td></td>\n",
       "      <td></td>\n",
       "      <td>Artsnavnebase 20170303</td>\n",
       "    </tr>\n",
       "    <tr>\n",
       "      <th>2</th>\n",
       "      <td>Plantae</td>\n",
       "      <td>Chlorophyta</td>\n",
       "      <td>Chlorophyceae</td>\n",
       "      <td></td>\n",
       "      <td></td>\n",
       "      <td></td>\n",
       "      <td></td>\n",
       "      <td></td>\n",
       "      <td></td>\n",
       "      <td></td>\n",
       "      <td>Wille</td>\n",
       "      <td>Gyldig</td>\n",
       "      <td>Artsnavnebase 20170303</td>\n",
       "      <td></td>\n",
       "      <td></td>\n",
       "      <td>Wille</td>\n",
       "      <td></td>\n",
       "      <td></td>\n",
       "      <td>Artsnavnebase 20170303</td>\n",
       "    </tr>\n",
       "    <tr>\n",
       "      <th>3</th>\n",
       "      <td>Plantae</td>\n",
       "      <td>Chlorophyta</td>\n",
       "      <td>Nephrophyceae</td>\n",
       "      <td></td>\n",
       "      <td></td>\n",
       "      <td></td>\n",
       "      <td></td>\n",
       "      <td></td>\n",
       "      <td></td>\n",
       "      <td></td>\n",
       "      <td>Cavalier-Smith, 1993</td>\n",
       "      <td>Gyldig</td>\n",
       "      <td>Artsnavnebase 20170303</td>\n",
       "      <td></td>\n",
       "      <td></td>\n",
       "      <td>Cavalier-Smith, 1993</td>\n",
       "      <td></td>\n",
       "      <td></td>\n",
       "      <td>Artsnavnebase 20170303</td>\n",
       "    </tr>\n",
       "    <tr>\n",
       "      <th>4</th>\n",
       "      <td>Plantae</td>\n",
       "      <td>Chlorophyta</td>\n",
       "      <td>Pedinophyceae</td>\n",
       "      <td></td>\n",
       "      <td></td>\n",
       "      <td></td>\n",
       "      <td></td>\n",
       "      <td></td>\n",
       "      <td></td>\n",
       "      <td></td>\n",
       "      <td>Moestrup</td>\n",
       "      <td>Gyldig</td>\n",
       "      <td>Artsnavnebase 20170303</td>\n",
       "      <td></td>\n",
       "      <td></td>\n",
       "      <td>Moestrup</td>\n",
       "      <td></td>\n",
       "      <td></td>\n",
       "      <td>Artsnavnebase 20170303</td>\n",
       "    </tr>\n",
       "  </tbody>\n",
       "</table>\n",
       "</div>"
      ],
      "text/plain": [
       "   kingdom       phylum        class_name order family genus species  \\\n",
       "0  Plantae  Chlorophyta                                                \n",
       "1  Plantae  Chlorophyta  Bryopsidophyceae                              \n",
       "2  Plantae  Chlorophyta     Chlorophyceae                              \n",
       "3  Plantae  Chlorophyta     Nephrophyceae                              \n",
       "4  Plantae  Chlorophyta     Pedinophyceae                              \n",
       "\n",
       "  subspecies variety forma                author  status  \\\n",
       "0                                          Rchb.  Gyldig   \n",
       "1                                         Bessey  Gyldig   \n",
       "2                                          Wille  Gyldig   \n",
       "3                           Cavalier-Smith, 1993  Gyldig   \n",
       "4                                       Moestrup  Gyldig   \n",
       "\n",
       "                   source nomac_scientific_name nomac_rank  \\\n",
       "0  Artsnavnebase 20170303                                    \n",
       "1  Artsnavnebase 20170303                                    \n",
       "2  Artsnavnebase 20170303                                    \n",
       "3  Artsnavnebase 20170303                                    \n",
       "4  Artsnavnebase 20170303                                    \n",
       "\n",
       "           nomac_author nomac_parent nomac_classification  \\\n",
       "0                 Rchb.                                     \n",
       "1                Bessey                                     \n",
       "2                 Wille                                     \n",
       "3  Cavalier-Smith, 1993                                     \n",
       "4              Moestrup                                     \n",
       "\n",
       "             nomac_source  \n",
       "0  Artsnavnebase 20170303  \n",
       "1  Artsnavnebase 20170303  \n",
       "2  Artsnavnebase 20170303  \n",
       "3  Artsnavnebase 20170303  \n",
       "4  Artsnavnebase 20170303  "
      ]
     },
     "execution_count": 25,
     "metadata": {},
     "output_type": "execute_result"
    }
   ],
   "source": [
    "# Add columns.\n",
    "df_nomac2017 = df_nomac2017.assign(nomac_scientific_name=\"\")\n",
    "df_nomac2017 = df_nomac2017.assign(nomac_rank=\"\")\n",
    "df_nomac2017 = df_nomac2017.assign(nomac_author=df_nomac2017.author)\n",
    "df_nomac2017 = df_nomac2017.assign(nomac_parent=\"\")\n",
    "df_nomac2017 = df_nomac2017.assign(nomac_classification=\"\")\n",
    "df_nomac2017 = df_nomac2017.assign(nomac_source=df_nomac2017.source)\n",
    "df_nomac2017.head()"
   ]
  },
  {
   "cell_type": "code",
   "execution_count": 26,
   "metadata": {
    "collapsed": false
   },
   "outputs": [
    {
     "name": "stdout",
     "output_type": "stream",
     "text": [
      "Length df_nomac2017: 7550\n"
     ]
    },
    {
     "data": {
      "text/html": [
       "<div>\n",
       "<table border=\"1\" class=\"dataframe\">\n",
       "  <thead>\n",
       "    <tr style=\"text-align: right;\">\n",
       "      <th></th>\n",
       "      <th>kingdom</th>\n",
       "      <th>phylum</th>\n",
       "      <th>class_name</th>\n",
       "      <th>order</th>\n",
       "      <th>family</th>\n",
       "      <th>genus</th>\n",
       "      <th>species</th>\n",
       "      <th>subspecies</th>\n",
       "      <th>variety</th>\n",
       "      <th>forma</th>\n",
       "      <th>author</th>\n",
       "      <th>status</th>\n",
       "      <th>source</th>\n",
       "      <th>nomac_scientific_name</th>\n",
       "      <th>nomac_rank</th>\n",
       "      <th>nomac_author</th>\n",
       "      <th>nomac_parent</th>\n",
       "      <th>nomac_classification</th>\n",
       "      <th>nomac_source</th>\n",
       "    </tr>\n",
       "  </thead>\n",
       "  <tbody>\n",
       "    <tr>\n",
       "      <th>0</th>\n",
       "      <td>Plantae</td>\n",
       "      <td>Chlorophyta</td>\n",
       "      <td></td>\n",
       "      <td></td>\n",
       "      <td></td>\n",
       "      <td></td>\n",
       "      <td></td>\n",
       "      <td></td>\n",
       "      <td></td>\n",
       "      <td></td>\n",
       "      <td>Rchb.</td>\n",
       "      <td>Gyldig</td>\n",
       "      <td>Artsnavnebase 20170303</td>\n",
       "      <td>Chlorophyta</td>\n",
       "      <td>Phylum</td>\n",
       "      <td>Rchb.</td>\n",
       "      <td>Plantae</td>\n",
       "      <td>Plantae - Chlorophyta</td>\n",
       "      <td>Artsnavnebase 20170303</td>\n",
       "    </tr>\n",
       "    <tr>\n",
       "      <th>1</th>\n",
       "      <td>Plantae</td>\n",
       "      <td>Chlorophyta</td>\n",
       "      <td>Bryopsidophyceae</td>\n",
       "      <td></td>\n",
       "      <td></td>\n",
       "      <td></td>\n",
       "      <td></td>\n",
       "      <td></td>\n",
       "      <td></td>\n",
       "      <td></td>\n",
       "      <td>Bessey</td>\n",
       "      <td>Gyldig</td>\n",
       "      <td>Artsnavnebase 20170303</td>\n",
       "      <td>Bryopsidophyceae</td>\n",
       "      <td>Class</td>\n",
       "      <td>Bessey</td>\n",
       "      <td>Chlorophyta</td>\n",
       "      <td>Plantae - Chlorophyta - Bryopsidophyceae</td>\n",
       "      <td>Artsnavnebase 20170303</td>\n",
       "    </tr>\n",
       "    <tr>\n",
       "      <th>2</th>\n",
       "      <td>Plantae</td>\n",
       "      <td>Chlorophyta</td>\n",
       "      <td>Chlorophyceae</td>\n",
       "      <td></td>\n",
       "      <td></td>\n",
       "      <td></td>\n",
       "      <td></td>\n",
       "      <td></td>\n",
       "      <td></td>\n",
       "      <td></td>\n",
       "      <td>Wille</td>\n",
       "      <td>Gyldig</td>\n",
       "      <td>Artsnavnebase 20170303</td>\n",
       "      <td>Chlorophyceae</td>\n",
       "      <td>Class</td>\n",
       "      <td>Wille</td>\n",
       "      <td>Chlorophyta</td>\n",
       "      <td>Plantae - Chlorophyta - Chlorophyceae</td>\n",
       "      <td>Artsnavnebase 20170303</td>\n",
       "    </tr>\n",
       "    <tr>\n",
       "      <th>3</th>\n",
       "      <td>Plantae</td>\n",
       "      <td>Chlorophyta</td>\n",
       "      <td>Nephrophyceae</td>\n",
       "      <td></td>\n",
       "      <td></td>\n",
       "      <td></td>\n",
       "      <td></td>\n",
       "      <td></td>\n",
       "      <td></td>\n",
       "      <td></td>\n",
       "      <td>Cavalier-Smith, 1993</td>\n",
       "      <td>Gyldig</td>\n",
       "      <td>Artsnavnebase 20170303</td>\n",
       "      <td>Nephrophyceae</td>\n",
       "      <td>Class</td>\n",
       "      <td>Cavalier-Smith, 1993</td>\n",
       "      <td>Chlorophyta</td>\n",
       "      <td>Plantae - Chlorophyta - Nephrophyceae</td>\n",
       "      <td>Artsnavnebase 20170303</td>\n",
       "    </tr>\n",
       "    <tr>\n",
       "      <th>4</th>\n",
       "      <td>Plantae</td>\n",
       "      <td>Chlorophyta</td>\n",
       "      <td>Pedinophyceae</td>\n",
       "      <td></td>\n",
       "      <td></td>\n",
       "      <td></td>\n",
       "      <td></td>\n",
       "      <td></td>\n",
       "      <td></td>\n",
       "      <td></td>\n",
       "      <td>Moestrup</td>\n",
       "      <td>Gyldig</td>\n",
       "      <td>Artsnavnebase 20170303</td>\n",
       "      <td>Pedinophyceae</td>\n",
       "      <td>Class</td>\n",
       "      <td>Moestrup</td>\n",
       "      <td>Chlorophyta</td>\n",
       "      <td>Plantae - Chlorophyta - Pedinophyceae</td>\n",
       "      <td>Artsnavnebase 20170303</td>\n",
       "    </tr>\n",
       "  </tbody>\n",
       "</table>\n",
       "</div>"
      ],
      "text/plain": [
       "   kingdom       phylum        class_name order family genus species  \\\n",
       "0  Plantae  Chlorophyta                                                \n",
       "1  Plantae  Chlorophyta  Bryopsidophyceae                              \n",
       "2  Plantae  Chlorophyta     Chlorophyceae                              \n",
       "3  Plantae  Chlorophyta     Nephrophyceae                              \n",
       "4  Plantae  Chlorophyta     Pedinophyceae                              \n",
       "\n",
       "  subspecies variety forma                author  status  \\\n",
       "0                                          Rchb.  Gyldig   \n",
       "1                                         Bessey  Gyldig   \n",
       "2                                          Wille  Gyldig   \n",
       "3                           Cavalier-Smith, 1993  Gyldig   \n",
       "4                                       Moestrup  Gyldig   \n",
       "\n",
       "                   source nomac_scientific_name nomac_rank  \\\n",
       "0  Artsnavnebase 20170303           Chlorophyta     Phylum   \n",
       "1  Artsnavnebase 20170303      Bryopsidophyceae      Class   \n",
       "2  Artsnavnebase 20170303         Chlorophyceae      Class   \n",
       "3  Artsnavnebase 20170303         Nephrophyceae      Class   \n",
       "4  Artsnavnebase 20170303         Pedinophyceae      Class   \n",
       "\n",
       "           nomac_author nomac_parent  \\\n",
       "0                 Rchb.      Plantae   \n",
       "1                Bessey  Chlorophyta   \n",
       "2                 Wille  Chlorophyta   \n",
       "3  Cavalier-Smith, 1993  Chlorophyta   \n",
       "4              Moestrup  Chlorophyta   \n",
       "\n",
       "                       nomac_classification            nomac_source  \n",
       "0                     Plantae - Chlorophyta  Artsnavnebase 20170303  \n",
       "1  Plantae - Chlorophyta - Bryopsidophyceae  Artsnavnebase 20170303  \n",
       "2     Plantae - Chlorophyta - Chlorophyceae  Artsnavnebase 20170303  \n",
       "3     Plantae - Chlorophyta - Nephrophyceae  Artsnavnebase 20170303  \n",
       "4     Plantae - Chlorophyta - Pedinophyceae  Artsnavnebase 20170303  "
      ]
     },
     "execution_count": 26,
     "metadata": {},
     "output_type": "execute_result"
    }
   ],
   "source": [
    "def calc_scientific_name(kingdom, phylum, class_name, order, family, genus, species, subspecies, variety, forma):\n",
    "    #\n",
    "    scientific_name = ''\n",
    "    rank = ''\n",
    "    classification = ''\n",
    "    #\n",
    "    if len(kingdom) > 0:\n",
    "        scientific_name = kingdom\n",
    "        rank = 'Kingdom'\n",
    "        classification = kingdom\n",
    "        parent = ''\n",
    "    if len(phylum) > 0:\n",
    "        scientific_name = phylum\n",
    "        rank = 'Phylum'\n",
    "        classification = classification + ' - ' + phylum\n",
    "        parent = kingdom\n",
    "    if len(class_name) > 0:\n",
    "        scientific_name = class_name\n",
    "        rank = 'Class'\n",
    "        classification = classification + ' - ' + class_name\n",
    "        parent = phylum\n",
    "    if len(order) > 0:\n",
    "        scientific_name = order\n",
    "        rank = 'Order'\n",
    "        classification = classification + ' - ' + order\n",
    "        parent = class_name\n",
    "    if len(family) > 0:\n",
    "        scientific_name = family\n",
    "        rank = 'Family'\n",
    "        classification = classification + ' - ' + family\n",
    "        parent = order\n",
    "    if len(genus) > 0:\n",
    "        scientific_name = genus\n",
    "        rank = 'Genus'\n",
    "        classification = classification + ' - ' + genus\n",
    "        parent = family\n",
    "    if len(species) > 0:\n",
    "        scientific_name = genus + ' ' + species\n",
    "        rank = 'Species'\n",
    "        classification = classification + ' ' + species\n",
    "        parent = genus\n",
    "    if len(subspecies) > 0:\n",
    "        scientific_name = genus + ' ' + species + ' spp. ' + subspecies\n",
    "        rank = 'Subspecies'\n",
    "        classification = classification + ' spp. ' + subspecies\n",
    "        parent = species\n",
    "    if len(variety) > 0:\n",
    "        scientific_name = genus + ' ' + species + ' var. ' + variety\n",
    "        rank = 'Variety'\n",
    "        classification = classification + ' var. ' + variety\n",
    "        parent = species\n",
    "    if len(forma) > 0:\n",
    "        scientific_name = genus + ' ' + species + ' f. ' + forma\n",
    "        rank = 'Forma'\n",
    "        classification = classification + ' f. ' + forma\n",
    "        parent = species\n",
    "    #\n",
    "    return scientific_name, rank, parent, classification\n",
    "#\n",
    "for index, row in df_nomac2017.iterrows():    \n",
    "    #row.ix[index, 'nomac_scientific_name'], \\\n",
    "    #row.ix[index, 'nomac_rank'], \\\n",
    "    #row.ix[index, 'nomac_parent'], \\\n",
    "    #row.ix[index, 'nomac_classification'] = calc_scientific_name(\n",
    "    row.loc['nomac_scientific_name'], \\\n",
    "    row.loc['nomac_rank'], \\\n",
    "    row.loc['nomac_parent'], \\\n",
    "    row.loc['nomac_classification'] = calc_scientific_name(\n",
    "        row.loc['kingdom'], \n",
    "        row.loc['phylum'], \n",
    "        row.loc['class_name'], \n",
    "        row.loc['order'], \n",
    "        row.loc['family'], \n",
    "        row.loc['genus'], \n",
    "        row.loc['species'], \n",
    "        row.loc['subspecies'], \n",
    "        row.loc['variety'], \n",
    "        row.loc['forma'])\n",
    "#\n",
    "print('Length df_nomac2017: ' + str(len(df_nomac2017)))\n",
    "df_nomac2017.head()"
   ]
  },
  {
   "cell_type": "code",
   "execution_count": 27,
   "metadata": {
    "collapsed": false
   },
   "outputs": [],
   "source": [
    "# For test.\n",
    "#date_iso = datetime.datetime.now().date().isoformat()\n",
    "#df_nomac2017.to_csv('./out_data/' + 'NOMAC_2017_and_Artsnavnebase_version_' + date_iso + '.txt',\n",
    "#                    sep='\\t', encoding='cp1252', index = False)"
   ]
  },
  {
   "cell_type": "code",
   "execution_count": 28,
   "metadata": {
    "collapsed": false
   },
   "outputs": [
    {
     "data": {
      "text/html": [
       "<div>\n",
       "<table border=\"1\" class=\"dataframe\">\n",
       "  <thead>\n",
       "    <tr style=\"text-align: right;\">\n",
       "      <th></th>\n",
       "      <th>nomac_scientific_name</th>\n",
       "      <th>nomac_rank</th>\n",
       "      <th>nomac_author</th>\n",
       "      <th>nomac_parent</th>\n",
       "      <th>nomac_classification</th>\n",
       "      <th>nomac_source</th>\n",
       "    </tr>\n",
       "  </thead>\n",
       "  <tbody>\n",
       "    <tr>\n",
       "      <th>0</th>\n",
       "      <td>Chlorophyta</td>\n",
       "      <td>Phylum</td>\n",
       "      <td>Rchb.</td>\n",
       "      <td>Plantae</td>\n",
       "      <td>Plantae - Chlorophyta</td>\n",
       "      <td>Artsnavnebase 20170303</td>\n",
       "    </tr>\n",
       "    <tr>\n",
       "      <th>1</th>\n",
       "      <td>Bryopsidophyceae</td>\n",
       "      <td>Class</td>\n",
       "      <td>Bessey</td>\n",
       "      <td>Chlorophyta</td>\n",
       "      <td>Plantae - Chlorophyta - Bryopsidophyceae</td>\n",
       "      <td>Artsnavnebase 20170303</td>\n",
       "    </tr>\n",
       "    <tr>\n",
       "      <th>2</th>\n",
       "      <td>Chlorophyceae</td>\n",
       "      <td>Class</td>\n",
       "      <td>Wille</td>\n",
       "      <td>Chlorophyta</td>\n",
       "      <td>Plantae - Chlorophyta - Chlorophyceae</td>\n",
       "      <td>Artsnavnebase 20170303</td>\n",
       "    </tr>\n",
       "    <tr>\n",
       "      <th>3</th>\n",
       "      <td>Nephrophyceae</td>\n",
       "      <td>Class</td>\n",
       "      <td>Cavalier-Smith, 1993</td>\n",
       "      <td>Chlorophyta</td>\n",
       "      <td>Plantae - Chlorophyta - Nephrophyceae</td>\n",
       "      <td>Artsnavnebase 20170303</td>\n",
       "    </tr>\n",
       "    <tr>\n",
       "      <th>4</th>\n",
       "      <td>Pedinophyceae</td>\n",
       "      <td>Class</td>\n",
       "      <td>Moestrup</td>\n",
       "      <td>Chlorophyta</td>\n",
       "      <td>Plantae - Chlorophyta - Pedinophyceae</td>\n",
       "      <td>Artsnavnebase 20170303</td>\n",
       "    </tr>\n",
       "  </tbody>\n",
       "</table>\n",
       "</div>"
      ],
      "text/plain": [
       "  nomac_scientific_name nomac_rank          nomac_author nomac_parent  \\\n",
       "0           Chlorophyta     Phylum                 Rchb.      Plantae   \n",
       "1      Bryopsidophyceae      Class                Bessey  Chlorophyta   \n",
       "2         Chlorophyceae      Class                 Wille  Chlorophyta   \n",
       "3         Nephrophyceae      Class  Cavalier-Smith, 1993  Chlorophyta   \n",
       "4         Pedinophyceae      Class              Moestrup  Chlorophyta   \n",
       "\n",
       "                       nomac_classification            nomac_source  \n",
       "0                     Plantae - Chlorophyta  Artsnavnebase 20170303  \n",
       "1  Plantae - Chlorophyta - Bryopsidophyceae  Artsnavnebase 20170303  \n",
       "2     Plantae - Chlorophyta - Chlorophyceae  Artsnavnebase 20170303  \n",
       "3     Plantae - Chlorophyta - Nephrophyceae  Artsnavnebase 20170303  \n",
       "4     Plantae - Chlorophyta - Pedinophyceae  Artsnavnebase 20170303  "
      ]
     },
     "execution_count": 28,
     "metadata": {},
     "output_type": "execute_result"
    }
   ],
   "source": [
    "used_columns = ['nomac_scientific_name', 'nomac_rank', 'nomac_author', 'nomac_parent', \n",
    "                'nomac_classification', 'nomac_source'] \n",
    "for column in list(df_nomac2017):\n",
    "    if column not in used_columns:\n",
    "        df_nomac2017.drop(column, axis=1, inplace=True)\n",
    "#\n",
    "df_nomac2017.head()"
   ]
  },
  {
   "cell_type": "code",
   "execution_count": 29,
   "metadata": {
    "collapsed": false
   },
   "outputs": [
    {
     "data": {
      "text/html": [
       "<div>\n",
       "<table border=\"1\" class=\"dataframe\">\n",
       "  <thead>\n",
       "    <tr style=\"text-align: right;\">\n",
       "      <th></th>\n",
       "      <th>scientific_name</th>\n",
       "      <th>rank</th>\n",
       "      <th>author</th>\n",
       "      <th>parent</th>\n",
       "      <th>classification</th>\n",
       "      <th>source</th>\n",
       "    </tr>\n",
       "  </thead>\n",
       "  <tbody>\n",
       "    <tr>\n",
       "      <th>0</th>\n",
       "      <td>Chlorophyta</td>\n",
       "      <td>Phylum</td>\n",
       "      <td>Rchb.</td>\n",
       "      <td>Plantae</td>\n",
       "      <td>Plantae - Chlorophyta</td>\n",
       "      <td>Artsnavnebase 20170303</td>\n",
       "    </tr>\n",
       "    <tr>\n",
       "      <th>1</th>\n",
       "      <td>Bryopsidophyceae</td>\n",
       "      <td>Class</td>\n",
       "      <td>Bessey</td>\n",
       "      <td>Chlorophyta</td>\n",
       "      <td>Plantae - Chlorophyta - Bryopsidophyceae</td>\n",
       "      <td>Artsnavnebase 20170303</td>\n",
       "    </tr>\n",
       "    <tr>\n",
       "      <th>2</th>\n",
       "      <td>Chlorophyceae</td>\n",
       "      <td>Class</td>\n",
       "      <td>Wille</td>\n",
       "      <td>Chlorophyta</td>\n",
       "      <td>Plantae - Chlorophyta - Chlorophyceae</td>\n",
       "      <td>Artsnavnebase 20170303</td>\n",
       "    </tr>\n",
       "    <tr>\n",
       "      <th>3</th>\n",
       "      <td>Nephrophyceae</td>\n",
       "      <td>Class</td>\n",
       "      <td>Cavalier-Smith, 1993</td>\n",
       "      <td>Chlorophyta</td>\n",
       "      <td>Plantae - Chlorophyta - Nephrophyceae</td>\n",
       "      <td>Artsnavnebase 20170303</td>\n",
       "    </tr>\n",
       "    <tr>\n",
       "      <th>4</th>\n",
       "      <td>Pedinophyceae</td>\n",
       "      <td>Class</td>\n",
       "      <td>Moestrup</td>\n",
       "      <td>Chlorophyta</td>\n",
       "      <td>Plantae - Chlorophyta - Pedinophyceae</td>\n",
       "      <td>Artsnavnebase 20170303</td>\n",
       "    </tr>\n",
       "  </tbody>\n",
       "</table>\n",
       "</div>"
      ],
      "text/plain": [
       "    scientific_name    rank                author       parent  \\\n",
       "0       Chlorophyta  Phylum                 Rchb.      Plantae   \n",
       "1  Bryopsidophyceae   Class                Bessey  Chlorophyta   \n",
       "2     Chlorophyceae   Class                 Wille  Chlorophyta   \n",
       "3     Nephrophyceae   Class  Cavalier-Smith, 1993  Chlorophyta   \n",
       "4     Pedinophyceae   Class              Moestrup  Chlorophyta   \n",
       "\n",
       "                             classification                  source  \n",
       "0                     Plantae - Chlorophyta  Artsnavnebase 20170303  \n",
       "1  Plantae - Chlorophyta - Bryopsidophyceae  Artsnavnebase 20170303  \n",
       "2     Plantae - Chlorophyta - Chlorophyceae  Artsnavnebase 20170303  \n",
       "3     Plantae - Chlorophyta - Nephrophyceae  Artsnavnebase 20170303  \n",
       "4     Plantae - Chlorophyta - Pedinophyceae  Artsnavnebase 20170303  "
      ]
     },
     "execution_count": 29,
     "metadata": {},
     "output_type": "execute_result"
    }
   ],
   "source": [
    "old_header=['nomac_scientific_name', 'nomac_rank', 'nomac_author', 'nomac_parent', \n",
    "            'nomac_classification', 'nomac_source'] \n",
    "new_header=['scientific_name', 'rank', 'author', 'parent', 'classification', 'source'] \n",
    "df_nomac2017.rename(columns=dict(zip(old_header, new_header)), inplace=True)\n",
    "#df_nomac2017.fillna('', inplace=True)\n",
    "df_nomac2017.head()"
   ]
  },
  {
   "cell_type": "code",
   "execution_count": null,
   "metadata": {
    "collapsed": true
   },
   "outputs": [],
   "source": []
  },
  {
   "cell_type": "code",
   "execution_count": 30,
   "metadata": {
    "collapsed": false
   },
   "outputs": [
    {
     "data": {
      "text/html": [
       "<div>\n",
       "<table border=\"1\" class=\"dataframe\">\n",
       "  <thead>\n",
       "    <tr style=\"text-align: right;\">\n",
       "      <th></th>\n",
       "      <th>scientific_name</th>\n",
       "      <th>rank</th>\n",
       "      <th>author</th>\n",
       "      <th>parent</th>\n",
       "      <th>classification</th>\n",
       "      <th>source</th>\n",
       "    </tr>\n",
       "  </thead>\n",
       "  <tbody>\n",
       "    <tr>\n",
       "      <th>0</th>\n",
       "      <td>Biota</td>\n",
       "      <td>Top</td>\n",
       "      <td></td>\n",
       "      <td></td>\n",
       "      <td></td>\n",
       "      <td>NOMAC_2017_top_taxa</td>\n",
       "    </tr>\n",
       "    <tr>\n",
       "      <th>1</th>\n",
       "      <td>Eukaryota</td>\n",
       "      <td>Empire</td>\n",
       "      <td>Chatton</td>\n",
       "      <td>Biota</td>\n",
       "      <td></td>\n",
       "      <td>NOMAC_2017_top_taxa</td>\n",
       "    </tr>\n",
       "    <tr>\n",
       "      <th>2</th>\n",
       "      <td>Prokaryota</td>\n",
       "      <td>Empire</td>\n",
       "      <td>Allsopp</td>\n",
       "      <td>Biota</td>\n",
       "      <td></td>\n",
       "      <td>NOMAC_2017_top_taxa</td>\n",
       "    </tr>\n",
       "    <tr>\n",
       "      <th>3</th>\n",
       "      <td>Bacteria</td>\n",
       "      <td>Kingdom</td>\n",
       "      <td>Cavalier-Smith</td>\n",
       "      <td>Prokaryota</td>\n",
       "      <td></td>\n",
       "      <td>NOMAC_2017_top_taxa</td>\n",
       "    </tr>\n",
       "    <tr>\n",
       "      <th>4</th>\n",
       "      <td>Chromista</td>\n",
       "      <td>Kingdom</td>\n",
       "      <td>Cavalier-Smith</td>\n",
       "      <td>Eukaryota</td>\n",
       "      <td></td>\n",
       "      <td>NOMAC_2017_top_taxa</td>\n",
       "    </tr>\n",
       "    <tr>\n",
       "      <th>5</th>\n",
       "      <td>Plantae</td>\n",
       "      <td>Kingdom</td>\n",
       "      <td>Haeckel</td>\n",
       "      <td>Eukaryota</td>\n",
       "      <td></td>\n",
       "      <td>NOMAC_2017_top_taxa</td>\n",
       "    </tr>\n",
       "    <tr>\n",
       "      <th>6</th>\n",
       "      <td>Protozoa</td>\n",
       "      <td>Kingdom</td>\n",
       "      <td>R.Owen</td>\n",
       "      <td>Eukaryota</td>\n",
       "      <td></td>\n",
       "      <td>NOMAC_2017_top_taxa</td>\n",
       "    </tr>\n",
       "    <tr>\n",
       "      <th>7</th>\n",
       "      <td>Fungi</td>\n",
       "      <td>Kingdom</td>\n",
       "      <td>T.L.Jahn &amp; F.F.Jahn ex R.T.Moore</td>\n",
       "      <td>Eukaryota</td>\n",
       "      <td></td>\n",
       "      <td>NOMAC_2017_top_taxa</td>\n",
       "    </tr>\n",
       "    <tr>\n",
       "      <th>8</th>\n",
       "      <td>Eukaryota unassigned</td>\n",
       "      <td>Kingdom</td>\n",
       "      <td></td>\n",
       "      <td>Eukaryota</td>\n",
       "      <td></td>\n",
       "      <td>NOMAC_2017_top_taxa</td>\n",
       "    </tr>\n",
       "  </tbody>\n",
       "</table>\n",
       "</div>"
      ],
      "text/plain": [
       "        scientific_name     rank                            author  \\\n",
       "0                 Biota      Top                                     \n",
       "1             Eukaryota   Empire                           Chatton   \n",
       "2            Prokaryota   Empire                           Allsopp   \n",
       "3              Bacteria  Kingdom                    Cavalier-Smith   \n",
       "4             Chromista  Kingdom                    Cavalier-Smith   \n",
       "5               Plantae  Kingdom                           Haeckel   \n",
       "6              Protozoa  Kingdom                            R.Owen   \n",
       "7                 Fungi  Kingdom  T.L.Jahn & F.F.Jahn ex R.T.Moore   \n",
       "8  Eukaryota unassigned  Kingdom                                     \n",
       "\n",
       "       parent classification               source  \n",
       "0                             NOMAC_2017_top_taxa  \n",
       "1       Biota                 NOMAC_2017_top_taxa  \n",
       "2       Biota                 NOMAC_2017_top_taxa  \n",
       "3  Prokaryota                 NOMAC_2017_top_taxa  \n",
       "4   Eukaryota                 NOMAC_2017_top_taxa  \n",
       "5   Eukaryota                 NOMAC_2017_top_taxa  \n",
       "6   Eukaryota                 NOMAC_2017_top_taxa  \n",
       "7   Eukaryota                 NOMAC_2017_top_taxa  \n",
       "8   Eukaryota                 NOMAC_2017_top_taxa  "
      ]
     },
     "execution_count": 30,
     "metadata": {},
     "output_type": "execute_result"
    }
   ],
   "source": [
    "file_name = 'NOMAC_2017_top_taxa.txt'\n",
    "df_top_taxa = pd.read_csv('./in_data/' + file_name, \n",
    "                          sep='\\t', encoding='cp1252',\n",
    "                          na_values=['nan'], keep_default_na=False, \n",
    "                          )\n",
    "df_top_taxa['source'] = 'NOMAC_2017_top_taxa'\n",
    "\n",
    "df_top_taxa"
   ]
  },
  {
   "cell_type": "code",
   "execution_count": 31,
   "metadata": {
    "collapsed": false
   },
   "outputs": [
    {
     "data": {
      "text/html": [
       "<div>\n",
       "<table border=\"1\" class=\"dataframe\">\n",
       "  <thead>\n",
       "    <tr style=\"text-align: right;\">\n",
       "      <th></th>\n",
       "      <th>scientific_name</th>\n",
       "      <th>rank</th>\n",
       "      <th>author</th>\n",
       "      <th>parent</th>\n",
       "      <th>classification</th>\n",
       "      <th>source</th>\n",
       "    </tr>\n",
       "  </thead>\n",
       "  <tbody>\n",
       "    <tr>\n",
       "      <th>0</th>\n",
       "      <td>Noctilucea</td>\n",
       "      <td>Class</td>\n",
       "      <td>Haeckel</td>\n",
       "      <td>Miozoa</td>\n",
       "      <td>Chromista - Miozoa - Noctilucea</td>\n",
       "      <td>NOMAC_2017_extra_taxa</td>\n",
       "    </tr>\n",
       "    <tr>\n",
       "      <th>1</th>\n",
       "      <td>Noctilucales</td>\n",
       "      <td>Order</td>\n",
       "      <td>Haeckel</td>\n",
       "      <td>Noctilucea</td>\n",
       "      <td>Chromista - Miozoa - Noctilucea - Noctilucales</td>\n",
       "      <td>NOMAC_2017_extra_taxa</td>\n",
       "    </tr>\n",
       "    <tr>\n",
       "      <th>2</th>\n",
       "      <td>Noctilucaceae</td>\n",
       "      <td>Family</td>\n",
       "      <td>Kent</td>\n",
       "      <td>Noctilucales</td>\n",
       "      <td>Chromista - Miozoa - Noctilucea - Noctilucales...</td>\n",
       "      <td>NOMAC_2017_extra_taxa</td>\n",
       "    </tr>\n",
       "    <tr>\n",
       "      <th>3</th>\n",
       "      <td>Noctiluca</td>\n",
       "      <td>Genus</td>\n",
       "      <td>Suriray</td>\n",
       "      <td>Noctilucaceae</td>\n",
       "      <td>Chromista - Miozoa - Noctilucea - Noctilucales...</td>\n",
       "      <td>NOMAC_2017_extra_taxa</td>\n",
       "    </tr>\n",
       "    <tr>\n",
       "      <th>4</th>\n",
       "      <td>Noctiluca scintillans</td>\n",
       "      <td>Species</td>\n",
       "      <td>(Macartney) Kofoid &amp; Swezy</td>\n",
       "      <td>Noctiluca</td>\n",
       "      <td>Chromista - Miozoa - Noctilucea - Noctilucales...</td>\n",
       "      <td>NOMAC_2017_extra_taxa</td>\n",
       "    </tr>\n",
       "  </tbody>\n",
       "</table>\n",
       "</div>"
      ],
      "text/plain": [
       "         scientific_name     rank                      author         parent  \\\n",
       "0             Noctilucea    Class                   Haeckel           Miozoa   \n",
       "1           Noctilucales    Order                   Haeckel       Noctilucea   \n",
       "2          Noctilucaceae   Family                        Kent   Noctilucales   \n",
       "3              Noctiluca    Genus                   Suriray    Noctilucaceae   \n",
       "4  Noctiluca scintillans  Species  (Macartney) Kofoid & Swezy      Noctiluca   \n",
       "\n",
       "                                      classification                 source  \n",
       "0                    Chromista - Miozoa - Noctilucea  NOMAC_2017_extra_taxa  \n",
       "1     Chromista - Miozoa - Noctilucea - Noctilucales  NOMAC_2017_extra_taxa  \n",
       "2  Chromista - Miozoa - Noctilucea - Noctilucales...  NOMAC_2017_extra_taxa  \n",
       "3  Chromista - Miozoa - Noctilucea - Noctilucales...  NOMAC_2017_extra_taxa  \n",
       "4  Chromista - Miozoa - Noctilucea - Noctilucales...  NOMAC_2017_extra_taxa  "
      ]
     },
     "execution_count": 31,
     "metadata": {},
     "output_type": "execute_result"
    }
   ],
   "source": [
    "file_name = 'NOMAC_2017_extra_taxa.txt'\n",
    "df_extra_taxa = pd.read_csv('./in_data/' + file_name, \n",
    "                          sep='\\t', encoding='cp1252',\n",
    "                          na_values=['nan'], keep_default_na=False, \n",
    "                          )\n",
    "df_extra_taxa['source'] = 'NOMAC_2017_extra_taxa'\n",
    "\n",
    "df_extra_taxa"
   ]
  },
  {
   "cell_type": "code",
   "execution_count": 32,
   "metadata": {
    "collapsed": false
   },
   "outputs": [
    {
     "data": {
      "text/html": [
       "<div>\n",
       "<table border=\"1\" class=\"dataframe\">\n",
       "  <thead>\n",
       "    <tr style=\"text-align: right;\">\n",
       "      <th></th>\n",
       "      <th>scientific_name</th>\n",
       "      <th>rank</th>\n",
       "      <th>author</th>\n",
       "      <th>parent</th>\n",
       "      <th>classification</th>\n",
       "      <th>source</th>\n",
       "    </tr>\n",
       "  </thead>\n",
       "  <tbody>\n",
       "    <tr>\n",
       "      <th>0</th>\n",
       "      <td>Chromista</td>\n",
       "      <td>Kingdom</td>\n",
       "      <td>Caval.-Sm.</td>\n",
       "      <td></td>\n",
       "      <td>Chromista</td>\n",
       "      <td>Artsnavnebase 20170303</td>\n",
       "    </tr>\n",
       "    <tr>\n",
       "      <th>0</th>\n",
       "      <td>Protozoa</td>\n",
       "      <td>Kingdom</td>\n",
       "      <td></td>\n",
       "      <td></td>\n",
       "      <td>Protozoa</td>\n",
       "      <td>Artsnavnebase 20170303</td>\n",
       "    </tr>\n",
       "  </tbody>\n",
       "</table>\n",
       "</div>"
      ],
      "text/plain": [
       "  scientific_name     rank      author parent classification  \\\n",
       "0       Chromista  Kingdom  Caval.-Sm.             Chromista   \n",
       "0        Protozoa  Kingdom                          Protozoa   \n",
       "\n",
       "                   source  \n",
       "0  Artsnavnebase 20170303  \n",
       "0  Artsnavnebase 20170303  "
      ]
     },
     "execution_count": 32,
     "metadata": {},
     "output_type": "execute_result"
    }
   ],
   "source": [
    "df_test = df_nomac2017[df_nomac2017['rank'].isin(['Kingdom'])]\n",
    "df_test"
   ]
  },
  {
   "cell_type": "code",
   "execution_count": 33,
   "metadata": {
    "collapsed": false
   },
   "outputs": [
    {
     "name": "stdout",
     "output_type": "stream",
     "text": [
      "7550\n",
      "7548\n"
     ]
    }
   ],
   "source": [
    "print(str(len(df_nomac2017)))\n",
    "df_nomac2017 = df_nomac2017[~df_nomac2017['rank'].isin(['Kingdom'])]\n",
    "print(str(len(df_nomac2017)))"
   ]
  },
  {
   "cell_type": "code",
   "execution_count": 34,
   "metadata": {
    "collapsed": false
   },
   "outputs": [
    {
     "name": "stdout",
     "output_type": "stream",
     "text": [
      "7562\n"
     ]
    }
   ],
   "source": [
    "df_nomac2017 = df_nomac2017.sort_values(by='classification', ascending=True)\n",
    "#\n",
    "df_nomac2017 = pd.concat([df_top_taxa, df_nomac2017, df_extra_taxa])\n",
    "print(str(len(df_nomac2017)))"
   ]
  },
  {
   "cell_type": "code",
   "execution_count": 35,
   "metadata": {
    "collapsed": false
   },
   "outputs": [],
   "source": [
    "date_iso = datetime.datetime.now().date().isoformat()\n",
    "df_nomac2017.to_csv('./out_data/' + 'NOMAC_2017_version_' + date_iso + '.txt',\n",
    "                    sep='\\t', encoding='cp1252', index = False)"
   ]
  },
  {
   "cell_type": "code",
   "execution_count": null,
   "metadata": {
    "collapsed": true
   },
   "outputs": [],
   "source": []
  }
 ],
 "metadata": {
  "kernelspec": {
   "display_name": "Python 3",
   "language": "python",
   "name": "python3"
  },
  "language_info": {
   "codemirror_mode": {
    "name": "ipython",
    "version": 3
   },
   "file_extension": ".py",
   "mimetype": "text/x-python",
   "name": "python",
   "nbconvert_exporter": "python",
   "pygments_lexer": "ipython3",
   "version": "3.5.3"
  }
 },
 "nbformat": 4,
 "nbformat_minor": 0
}
